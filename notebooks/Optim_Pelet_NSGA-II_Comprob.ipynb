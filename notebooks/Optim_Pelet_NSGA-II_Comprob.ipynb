{
 "cells": [
  {
   "cell_type": "code",
   "execution_count": 4,
   "id": "4f344257",
   "metadata": {},
   "outputs": [
    {
     "data": {
      "text/plain": [
       "['Requirement already satisfied: pymoo in c:\\\\users\\\\user\\\\appdata\\\\local\\\\programs\\\\python\\\\python312\\\\lib\\\\site-packages (0.6.1.5)',\n",
       " 'Requirement already satisfied: numpy>=1.19.3 in c:\\\\tools\\\\manim\\\\lib\\\\site-packages (from pymoo) (2.2.3)',\n",
       " 'Requirement already satisfied: scipy>=1.1 in c:\\\\tools\\\\manim\\\\lib\\\\site-packages (from pymoo) (1.15.2)',\n",
       " 'Requirement already satisfied: matplotlib>=3 in c:\\\\users\\\\user\\\\appdata\\\\local\\\\programs\\\\python\\\\python312\\\\lib\\\\site-packages (from pymoo) (3.10.0)',\n",
       " 'Requirement already satisfied: autograd>=1.4 in c:\\\\users\\\\user\\\\appdata\\\\local\\\\programs\\\\python\\\\python312\\\\lib\\\\site-packages (from pymoo) (1.8.0)',\n",
       " 'Requirement already satisfied: cma>=3.2.2 in c:\\\\users\\\\user\\\\appdata\\\\local\\\\programs\\\\python\\\\python312\\\\lib\\\\site-packages (from pymoo) (4.2.0)',\n",
       " 'Requirement already satisfied: alive-progress in c:\\\\users\\\\user\\\\appdata\\\\local\\\\programs\\\\python\\\\python312\\\\lib\\\\site-packages (from pymoo) (3.2.0)',\n",
       " 'Requirement already satisfied: dill in c:\\\\users\\\\user\\\\appdata\\\\local\\\\programs\\\\python\\\\python312\\\\lib\\\\site-packages (from pymoo) (0.4.0)',\n",
       " 'Requirement already satisfied: Deprecated in c:\\\\users\\\\user\\\\appdata\\\\local\\\\programs\\\\python\\\\python312\\\\lib\\\\site-packages (from pymoo) (1.2.14)',\n",
       " 'Requirement already satisfied: contourpy>=1.0.1 in c:\\\\users\\\\user\\\\appdata\\\\local\\\\programs\\\\python\\\\python312\\\\lib\\\\site-packages (from matplotlib>=3->pymoo) (1.2.1)',\n",
       " 'Requirement already satisfied: cycler>=0.10 in c:\\\\users\\\\user\\\\appdata\\\\local\\\\programs\\\\python\\\\python312\\\\lib\\\\site-packages (from matplotlib>=3->pymoo) (0.12.1)',\n",
       " 'Requirement already satisfied: fonttools>=4.22.0 in c:\\\\users\\\\user\\\\appdata\\\\local\\\\programs\\\\python\\\\python312\\\\lib\\\\site-packages (from matplotlib>=3->pymoo) (4.51.0)',\n",
       " 'Requirement already satisfied: kiwisolver>=1.3.1 in c:\\\\users\\\\user\\\\appdata\\\\local\\\\programs\\\\python\\\\python312\\\\lib\\\\site-packages (from matplotlib>=3->pymoo) (1.4.5)',\n",
       " 'Requirement already satisfied: packaging>=20.0 in c:\\\\users\\\\user\\\\appdata\\\\local\\\\programs\\\\python\\\\python312\\\\lib\\\\site-packages (from matplotlib>=3->pymoo) (24.2)',\n",
       " 'Requirement already satisfied: pillow>=8 in c:\\\\tools\\\\manim\\\\lib\\\\site-packages (from matplotlib>=3->pymoo) (11.1.0)',\n",
       " 'Requirement already satisfied: pyparsing>=2.3.1 in c:\\\\users\\\\user\\\\appdata\\\\local\\\\programs\\\\python\\\\python312\\\\lib\\\\site-packages (from matplotlib>=3->pymoo) (3.1.2)',\n",
       " 'Requirement already satisfied: python-dateutil>=2.7 in c:\\\\users\\\\user\\\\appdata\\\\local\\\\programs\\\\python\\\\python312\\\\lib\\\\site-packages (from matplotlib>=3->pymoo) (2.9.0.post0)',\n",
       " 'Requirement already satisfied: six>=1.5 in c:\\\\users\\\\user\\\\appdata\\\\local\\\\programs\\\\python\\\\python312\\\\lib\\\\site-packages (from python-dateutil>=2.7->matplotlib>=3->pymoo) (1.17.0)',\n",
       " 'Requirement already satisfied: about-time==4.2.1 in c:\\\\users\\\\user\\\\appdata\\\\local\\\\programs\\\\python\\\\python312\\\\lib\\\\site-packages (from alive-progress->pymoo) (4.2.1)',\n",
       " 'Requirement already satisfied: grapheme==0.6.0 in c:\\\\users\\\\user\\\\appdata\\\\local\\\\programs\\\\python\\\\python312\\\\lib\\\\site-packages (from alive-progress->pymoo) (0.6.0)',\n",
       " 'Requirement already satisfied: wrapt<2,>=1.10 in c:\\\\users\\\\user\\\\appdata\\\\local\\\\programs\\\\python\\\\python312\\\\lib\\\\site-packages (from Deprecated->pymoo) (1.16.0)']"
      ]
     },
     "execution_count": 4,
     "metadata": {},
     "output_type": "execute_result"
    }
   ],
   "source": [
    "!!pip install -U pymoo"
   ]
  },
  {
   "cell_type": "code",
   "execution_count": 1,
   "id": "b55fe614",
   "metadata": {},
   "outputs": [],
   "source": [
    "import pandas as pd\n",
    "import os\n",
    "import joblib\n",
    "import numpy as np\n",
    "from pymoo.core.problem import Problem\n",
    "from pymoo.algorithms.moo.nsga2 import NSGA2\n",
    "from pymoo.optimize import minimize\n",
    "from pymoo.termination import get_termination\n",
    "#from pymoo.samplers import Sampling\n",
    "#from pymoo.factory import Sampling\n",
    "from pymoo.operators.sampling.lhs import LHS\n",
    "from sklearn.preprocessing import MinMaxScaler"
   ]
  },
  {
   "cell_type": "code",
   "execution_count": 6,
   "id": "33d2c2a9",
   "metadata": {},
   "outputs": [],
   "source": [
    "# Cargar datos\n",
    "# Directorio y carga\n",
    "directorio_actual = os.getcwd()\n",
    "archivo_csv = os.path.join(directorio_actual, \"DPta_CarEngMxI&Q_6.0md1.csv\")\n",
    "data= pd.read_csv(archivo_csv, encoding='latin1', sep=';')\n"
   ]
  },
  {
   "cell_type": "code",
   "execution_count": 7,
   "id": "bd404820",
   "metadata": {},
   "outputs": [],
   "source": [
    "# Variables independientes (de diseño)\n",
    "variables = ['F_Alim', 'T_Alim', 'T_Vap', 'P_Vap', 'T_Acond', 't_ret',\n",
    "             'H_Pelt', 'T_Pelt', 'M_Vap', 'H_Add']"
   ]
  },
  {
   "cell_type": "code",
   "execution_count": 8,
   "id": "0646ce81",
   "metadata": {},
   "outputs": [],
   "source": [
    "# Variables dependientes (targets)\n",
    "objetivos = ['Q_Vap', 'Fn', 'Prodt', 'PDI', 'DGM']\n"
   ]
  },
  {
   "cell_type": "code",
   "execution_count": 9,
   "id": "626c1afc",
   "metadata": {},
   "outputs": [],
   "source": [
    "# Escalamiento\n",
    "scaler = MinMaxScaler()\n",
    "X = scaler.fit_transform(data[variables])\n",
    "Y = data[objetivos].values"
   ]
  },
  {
   "cell_type": "code",
   "execution_count": 10,
   "id": "917b631e",
   "metadata": {},
   "outputs": [],
   "source": [
    "# Dataset combinado\n",
    "dataset = pd.DataFrame(X, columns=variables)\n",
    "dataset[['Q_Vap', 'Fn', 'Prodt', 'PDI', 'DGM']] = Y"
   ]
  },
  {
   "cell_type": "code",
   "execution_count": 11,
   "id": "d22e2941",
   "metadata": {},
   "outputs": [],
   "source": [
    "# -------------------------\n",
    "# DEFINICIÓN DEL PROBLEMA\n",
    "# -------------------------\n",
    "\n",
    "class OptimizarProceso(Problem):\n",
    "    def __init__(self):\n",
    "        super().__init__(n_var=len(variables),\n",
    "                         n_obj=3,  # Minimizar Q_Vap, Minimizar Fn, Maximizar Prodt\n",
    "                         n_constr=3,  # Restricciones: Fn<5, PDI>91, 3900<=DGM<=4100\n",
    "                         xl=0.0, xu=1.0)  # Todos los valores están escalados\n",
    "\n",
    "    def _evaluate(self, X, out, *args, **kwargs):\n",
    "        f1, f2, f3 = [], [], []\n",
    "        g1, g2, g3 = [], [], []\n",
    "\n",
    "        for x in X:\n",
    "            # Buscar punto más cercano del dataset\n",
    "            dists = np.linalg.norm(dataset[variables].values - x, axis=1)\n",
    "            idx = np.argmin(dists)\n",
    "            row = dataset.iloc[idx]\n",
    "\n",
    "            # Objetivos\n",
    "            f1.append(row['Q_Vap'])      # minimizar\n",
    "            f2.append(row['Fn'])         # minimizar\n",
    "            f3.append(-row['Prodt'])     # maximizar (=> minimizar negativo)\n",
    "\n",
    "            # Restricciones (se deben satisfacer: g ≤ 0)\n",
    "            g1.append(row['Fn'] - 5)\n",
    "            g2.append(91 - row['PDI'])\n",
    "            g3.append(max(0, 3900 - row['DGM']) + max(0, row['DGM'] - 4100))\n",
    "\n",
    "        out[\"F\"] = np.column_stack([f1, f2, f3])\n",
    "        out[\"G\"] = np.column_stack([g1, g2, g3])\n"
   ]
  },
  {
   "cell_type": "code",
   "execution_count": 12,
   "id": "014f4f3a",
   "metadata": {},
   "outputs": [
    {
     "name": "stdout",
     "output_type": "stream",
     "text": [
      "==========================================================================================\n",
      "n_gen  |  n_eval  | n_nds  |     cv_min    |     cv_avg    |      eps      |   indicator  \n",
      "==========================================================================================\n",
      "     1 |      100 |      8 |  0.000000E+00 |  1.751479E+02 |             - |             -\n",
      "     2 |      200 |     23 |  0.000000E+00 |  0.000000E+00 |  0.1935483871 |         ideal\n",
      "     3 |      300 |     48 |  0.000000E+00 |  0.000000E+00 |  0.2911459437 |         ideal\n",
      "     4 |      400 |     58 |  0.000000E+00 |  0.000000E+00 |  0.1153846154 |         nadir\n",
      "     5 |      500 |     98 |  0.000000E+00 |  0.000000E+00 |  0.0795454545 |         ideal\n",
      "     6 |      600 |    100 |  0.000000E+00 |  0.000000E+00 |  0.000000E+00 |             f\n",
      "     7 |      700 |    100 |  0.000000E+00 |  0.000000E+00 |  0.0714285714 |         ideal\n",
      "     8 |      800 |    100 |  0.000000E+00 |  0.000000E+00 |  0.000000E+00 |             f\n",
      "     9 |      900 |    100 |  0.000000E+00 |  0.000000E+00 |  0.000000E+00 |             f\n",
      "    10 |     1000 |    100 |  0.000000E+00 |  0.000000E+00 |  0.000000E+00 |             f\n",
      "    11 |     1100 |    100 |  0.000000E+00 |  0.000000E+00 |  0.0035269074 |             f\n",
      "    12 |     1200 |    100 |  0.000000E+00 |  0.000000E+00 |  0.000000E+00 |             f\n",
      "    13 |     1300 |    100 |  0.000000E+00 |  0.000000E+00 |  0.000000E+00 |             f\n",
      "    14 |     1400 |    100 |  0.000000E+00 |  0.000000E+00 |  0.000000E+00 |             f\n",
      "    15 |     1500 |    100 |  0.000000E+00 |  0.000000E+00 |  0.000000E+00 |             f\n",
      "    16 |     1600 |    100 |  0.000000E+00 |  0.000000E+00 |  0.000000E+00 |             f\n",
      "    17 |     1700 |    100 |  0.000000E+00 |  0.000000E+00 |  0.000000E+00 |             f\n",
      "    18 |     1800 |    100 |  0.000000E+00 |  0.000000E+00 |  0.000000E+00 |             f\n",
      "    19 |     1900 |    100 |  0.000000E+00 |  0.000000E+00 |  0.000000E+00 |             f\n",
      "    20 |     2000 |    100 |  0.000000E+00 |  0.000000E+00 |  0.000000E+00 |             f\n",
      "    21 |     2100 |    100 |  0.000000E+00 |  0.000000E+00 |  0.000000E+00 |             f\n",
      "    22 |     2200 |    100 |  0.000000E+00 |  0.000000E+00 |  0.000000E+00 |             f\n",
      "    23 |     2300 |    100 |  0.000000E+00 |  0.000000E+00 |  0.000000E+00 |             f\n",
      "    24 |     2400 |    100 |  0.000000E+00 |  0.000000E+00 |  0.0014691703 |             f\n",
      "    25 |     2500 |    100 |  0.000000E+00 |  0.000000E+00 |  0.0044075109 |             f\n",
      "    26 |     2600 |    100 |  0.000000E+00 |  0.000000E+00 |  0.000000E+00 |             f\n",
      "    27 |     2700 |    100 |  0.000000E+00 |  0.000000E+00 |  0.000000E+00 |             f\n",
      "    28 |     2800 |    100 |  0.000000E+00 |  0.000000E+00 |  0.000000E+00 |             f\n",
      "    29 |     2900 |    100 |  0.000000E+00 |  0.000000E+00 |  0.000000E+00 |             f\n",
      "    30 |     3000 |    100 |  0.000000E+00 |  0.000000E+00 |  0.000000E+00 |             f\n",
      "    31 |     3100 |    100 |  0.000000E+00 |  0.000000E+00 |  0.000000E+00 |             f\n",
      "    32 |     3200 |    100 |  0.000000E+00 |  0.000000E+00 |  0.000000E+00 |             f\n",
      "    33 |     3300 |    100 |  0.000000E+00 |  0.000000E+00 |  0.000000E+00 |             f\n",
      "    34 |     3400 |    100 |  0.000000E+00 |  0.000000E+00 |  0.0006516451 |             f\n",
      "    35 |     3500 |    100 |  0.000000E+00 |  0.000000E+00 |  0.0006516451 |             f\n",
      "    36 |     3600 |    100 |  0.000000E+00 |  0.000000E+00 |  0.0054217356 |             f\n",
      "    37 |     3700 |    100 |  0.000000E+00 |  0.000000E+00 |  0.000000E+00 |             f\n",
      "    38 |     3800 |    100 |  0.000000E+00 |  0.000000E+00 |  0.000000E+00 |             f\n",
      "    39 |     3900 |    100 |  0.000000E+00 |  0.000000E+00 |  0.000000E+00 |             f\n",
      "    40 |     4000 |    100 |  0.000000E+00 |  0.000000E+00 |  0.000000E+00 |             f\n",
      "    41 |     4100 |    100 |  0.000000E+00 |  0.000000E+00 |  0.0540540541 |         nadir\n",
      "    42 |     4200 |    100 |  0.000000E+00 |  0.000000E+00 |  0.000000E+00 |             f\n",
      "    43 |     4300 |    100 |  0.000000E+00 |  0.000000E+00 |  0.000000E+00 |             f\n",
      "    44 |     4400 |    100 |  0.000000E+00 |  0.000000E+00 |  0.000000E+00 |             f\n",
      "    45 |     4500 |    100 |  0.000000E+00 |  0.000000E+00 |  0.000000E+00 |             f\n",
      "    46 |     4600 |    100 |  0.000000E+00 |  0.000000E+00 |  0.000000E+00 |             f\n",
      "    47 |     4700 |    100 |  0.000000E+00 |  0.000000E+00 |  0.0014933825 |             f\n",
      "    48 |     4800 |    100 |  0.000000E+00 |  0.000000E+00 |  0.0043096045 |             f\n",
      "    49 |     4900 |    100 |  0.000000E+00 |  0.000000E+00 |  0.000000E+00 |             f\n",
      "    50 |     5000 |    100 |  0.000000E+00 |  0.000000E+00 |  0.000000E+00 |             f\n"
     ]
    }
   ],
   "source": [
    "# -------------------------\n",
    "# EJECUTAR OPTIMIZACIÓN\n",
    "# -------------------------\n",
    "problem = OptimizarProceso()\n",
    "\n",
    "algorithm = NSGA2(pop_size=100)\n",
    "\n",
    "termination = get_termination(\"n_gen\", 50)  # 50 generaciones\n",
    "\n",
    "res = minimize(problem,\n",
    "               algorithm,\n",
    "               termination,\n",
    "               seed=42,\n",
    "               save_history=True,\n",
    "               verbose=True)\n"
   ]
  },
  {
   "cell_type": "code",
   "execution_count": null,
   "id": "1a7d456a",
   "metadata": {},
   "outputs": [],
   "source": []
  },
  {
   "cell_type": "code",
   "execution_count": null,
   "id": "5bcfcb53",
   "metadata": {},
   "outputs": [
    {
     "name": "stdout",
     "output_type": "stream",
     "text": [
      "\n",
      "🏆 Mejores soluciones óptimas no dominadas (cumpliendo restricciones):\n",
      "        F_Alim    T_Alim     T_Vap     P_Vap   T_Acond     t_ret    H_Pelt  \\\n",
      "502   0.412480  0.467780  0.851562  0.651254  0.721831  0.539799  0.569697   \n",
      "2490  0.339141  0.295943  0.125000  0.550006  0.000000  0.539799  0.454545   \n",
      "3163  0.666126  0.532220  0.812500  0.662504  0.686620  0.931822  0.212121   \n",
      "2490  0.339141  0.295943  0.125000  0.550006  0.000000  0.539799  0.454545   \n",
      "122   0.294571  0.427208  0.867188  0.656879  0.704225  0.488665  0.575758   \n",
      "3176  0.768639  0.312649  0.750000  0.662504  0.633803  0.931822  0.121212   \n",
      "154   0.107374  0.414797  0.750000  0.550006  0.669014  0.539799  0.400000   \n",
      "168   0.037682  0.496420  0.750000  0.662504  0.607394  0.539799  0.393939   \n",
      "105   0.313614  0.501193  0.750000  0.648442  0.708627  0.539799  0.493939   \n",
      "193   0.764587  0.431981  0.750000  0.640004  0.535211  0.700017  0.327273   \n",
      "\n",
      "        T_Pelt     M_Vap     H_Add    Q_Vap    Fn  Prodt    PDI     DGM  \n",
      "502   0.434466  0.411514  0.663934  1114.88  2.25  96.61  92.40  4028.0  \n",
      "2490  0.300971  0.000000  0.000000   321.46  2.30  88.07  93.50  3930.0  \n",
      "3163  0.533981  0.509595  0.610656  1305.36  1.50  94.33  93.60  3933.0  \n",
      "2490  0.300971  0.000000  0.000000   321.46  2.30  88.07  93.50  3930.0  \n",
      "122   0.550000  0.345416  0.662910   983.66  2.98  95.72  91.63  4002.5  \n",
      "3176  0.315534  0.586354  0.637295  1454.50  1.60  95.07  94.80  3975.0  \n",
      "154   0.531068  0.217484  0.610656   755.14  2.48  90.43  92.72  3922.0  \n",
      "168   0.645631  0.155650  0.548156   614.00  2.90  93.46  91.80  3974.5  \n",
      "105   0.521845  0.341151  0.639344   980.22  2.08  92.97  93.25  4014.5  \n",
      "193   0.561165  0.466951  0.497951  1226.48  1.82  92.23  94.52  4009.4  \n"
     ]
    }
   ],
   "source": [
    "# -------------------------\n",
    "# RESULTADOS\n",
    "# -------------------------\n",
    "\n",
    "# Desescalar los valores para entender resultados reales\n",
    "resultados = []\n",
    "for x in res.X:\n",
    "    dists = np.linalg.norm(dataset[variables].values - x, axis=1)\n",
    "    idx = np.argmin(dists)\n",
    "    row = dataset.iloc[idx]\n",
    "    resultados.append(row)\n",
    "\n",
    "df_resultados = pd.DataFrame(resultados)\n",
    "df_resultados['Q_Vap'] = df_resultados['Q_Vap'].round(2)\n",
    "df_resultados['Fn'] = df_resultados['Fn'].round(2)\n",
    "df_resultados['Prodt'] = df_resultados['Prodt'].round(2)\n",
    "df_resultados['PDI'] = df_resultados['PDI'].round(2)\n",
    "df_resultados['DGM'] = df_resultados['DGM'].round(2)\n",
    "\n",
    "# Mostrar mejores soluciones\n",
    "#print(\"\\n🏆 Mejores soluciones óptimas no dominadas (cumpliendo restricciones):\")\n",
    "#print(df_resultados.head(10))"
   ]
  },
  {
   "cell_type": "code",
   "execution_count": 14,
   "id": "f6a48291",
   "metadata": {},
   "outputs": [
    {
     "name": "stdout",
     "output_type": "stream",
     "text": [
      "\n",
      "🏆 Mejores soluciones óptimas no dominadas (desescaladas y válidas):\n",
      "      F_Alim  T_Alim   T_Vap   P_Vap  T_Acond  t_ret  H_Pelt  T_Pelt  M_Vap  \\\n",
      "502    25.25   25.75  173.25  109.00    80.00   95.0   12.28   28.05   2.68   \n",
      "2490   23.44   22.15  150.00  100.00    39.00   95.0   11.90   25.30   0.75   \n",
      "3163   31.51   27.10  172.00  110.00    78.00  118.0   11.10   30.10   3.14   \n",
      "2490   23.44   22.15  150.00  100.00    39.00   95.0   11.90   25.30   0.75   \n",
      "122    22.34   24.90  173.75  109.50    79.00   92.0   12.30   30.43   2.37   \n",
      "3176   34.04   22.50  170.00  110.00    75.00  118.0   10.80   25.60   3.50   \n",
      "154    17.72   24.64  170.00  100.00    77.00   95.0   11.72   30.04   1.77   \n",
      "168    16.00   26.35  170.00  110.00    73.50   95.0   11.70   32.40   1.48   \n",
      "105    22.81   26.45  170.00  108.75    79.25   95.0   12.03   29.85   2.35   \n",
      "193    33.94   25.00  170.00  108.00    69.40  104.4   11.48   30.66   2.94   \n",
      "\n",
      "      H_Add    Q_Vap    Fn  Prodt    PDI     DGM  \n",
      "502    9.59  1114.88  2.25  96.61  92.40  4028.0  \n",
      "2490   3.11   321.46  2.30  88.07  93.50  3930.0  \n",
      "3163   9.07  1305.36  1.50  94.33  93.60  3933.0  \n",
      "2490   3.11   321.46  2.30  88.07  93.50  3930.0  \n",
      "122    9.58   983.66  2.98  95.72  91.63  4002.5  \n",
      "3176   9.33  1454.50  1.60  95.07  94.80  3975.0  \n",
      "154    9.07   755.14  2.48  90.43  92.72  3922.0  \n",
      "168    8.46   614.00  2.90  93.46  91.80  3974.5  \n",
      "105    9.35   980.22  2.08  92.97  93.25  4014.5  \n",
      "193    7.97  1226.48  1.82  92.23  94.52  4009.4  \n"
     ]
    }
   ],
   "source": [
    "# Desescalar variables de entrada (F_Alim, T_Alim, ..., H_Add)\n",
    "variables_escaladas = df_resultados[variables].values\n",
    "variables_dese = scaler.inverse_transform(variables_escaladas)\n",
    "\n",
    "# Reemplazar en el DataFrame\n",
    "df_resultados[variables] = variables_dese\n",
    "\n",
    "# Redondear todos los valores relevantes\n",
    "for col in df_resultados.columns:\n",
    "    df_resultados[col] = df_resultados[col].round(2)\n",
    "\n",
    "# Mostrar y guardar los resultados corregidos\n",
    "print(\"\\n🏆 Mejores soluciones óptimas no dominadas (desescaladas y válidas):\")\n",
    "print(df_resultados.head(10))\n",
    "\n",
    "\n"
   ]
  },
  {
   "cell_type": "code",
   "execution_count": 15,
   "id": "7ba953a2",
   "metadata": {},
   "outputs": [],
   "source": [
    "# Guardar resultados\n",
    "df_resultados.to_csv(\"optimizacion_nsga2_resultados.csv\", index=False)"
   ]
  },
  {
   "cell_type": "markdown",
   "id": "3cb6eaaa",
   "metadata": {},
   "source": [
    "#### Análisis Comparativo de Resultados entre Algoritmo Basado en Aprendizaje Profundo (DCQL) y Optimización Evolutiva (NSGA-II) utilizando una Función de Recompensa Unificada"
   ]
  },
  {
   "cell_type": "code",
   "execution_count": 17,
   "id": "4fe5f8e9",
   "metadata": {},
   "outputs": [],
   "source": [
    "import pandas as pd"
   ]
  },
  {
   "cell_type": "code",
   "execution_count": 18,
   "id": "956b1ad6",
   "metadata": {},
   "outputs": [],
   "source": [
    "# Paso 1: Leer los resultados generados por NSGA-II (ya deben estar desescalados)\n",
    "df_nsga = pd.read_csv(\"optimizacion_nsga2_resultados.csv\")"
   ]
  },
  {
   "cell_type": "code",
   "execution_count": 19,
   "id": "c7e2907b",
   "metadata": {},
   "outputs": [],
   "source": [
    "# Paso 2: Definir la misma función de recompensa que usaste en DCQL\n",
    "def calcular_recompensa(row):\n",
    "    prodt = row['Prodt']\n",
    "    q_vap = row['Q_Vap']\n",
    "    fn = row['Fn']\n",
    "    pdi = row['PDI']\n",
    "    dgm = row['DGM']\n",
    "\n",
    "    penalizacion_fn = max(0, (fn - 5) * 20)\n",
    "    penalizacion_qvap = q_vap * 0.01\n",
    "    penalizacion_pdi = 0 if pdi > 91 else 1000\n",
    "    penalizacion_dgm = 0 if 3900 <= dgm <= 4100 else 1000\n",
    "\n",
    "    recompensa = prodt * 10 - penalizacion_fn - penalizacion_qvap - penalizacion_pdi - penalizacion_dgm\n",
    "    return round(recompensa, 4)"
   ]
  },
  {
   "cell_type": "code",
   "execution_count": 25,
   "id": "b3145c2a",
   "metadata": {},
   "outputs": [],
   "source": [
    "# Aplicar la recompensa a cada fila\n",
    "df_resultados['score'] = df_resultados.apply(calcular_recompensa, axis=1)"
   ]
  },
  {
   "cell_type": "code",
   "execution_count": 26,
   "id": "3a55b9f6",
   "metadata": {},
   "outputs": [],
   "source": [
    "# Obtener la mejor fila según el mayor score\n",
    "mejor_fila = df_resultados.loc[df_resultados['score'].idxmax()]"
   ]
  },
  {
   "cell_type": "code",
   "execution_count": 28,
   "id": "b88bbdc5",
   "metadata": {},
   "outputs": [
    {
     "name": "stdout",
     "output_type": "stream",
     "text": [
      "🔹 Mejores indicadores clave:\n",
      "     Prodt    Q_Vap    Fn   PDI     DGM\n",
      "502  96.61  1114.88  2.25  92.4  4028.0\n",
      "502  96.61  1114.88  2.25  92.4  4028.0\n",
      "\n",
      "🔹 Toda la fila completa:\n",
      "     F_Alim  T_Alim   T_Vap  P_Vap  T_Acond  t_ret  H_Pelt  T_Pelt  M_Vap  \\\n",
      "502   25.25   25.75  173.25  109.0     80.0   95.0   12.28   28.05   2.68   \n",
      "502   25.25   25.75  173.25  109.0     80.0   95.0   12.28   28.05   2.68   \n",
      "\n",
      "     H_Add    Q_Vap    Fn  Prodt   PDI     DGM     score  \n",
      "502   9.59  1114.88  2.25  96.61  92.4  4028.0  954.9512  \n",
      "502   9.59  1114.88  2.25  96.61  92.4  4028.0  954.9512  \n"
     ]
    }
   ],
   "source": [
    "# Verifica si mejor_fila es una Serie (una sola fila seleccionada)\n",
    "if isinstance(mejor_fila, pd.Series):\n",
    "    # 📌 Mostrar solo los indicadores clave en horizontal\n",
    "    print(\"🔹 Mejores indicadores clave:\")\n",
    "    print(mejor_fila[['Prodt', 'Q_Vap', 'Fn', 'PDI', 'DGM']].to_frame().T)\n",
    "\n",
    "    # 📌 Mostrar toda la fila completa en horizontal\n",
    "    print(\"\\n🔹 Toda la fila completa:\")\n",
    "    print(mejor_fila.to_frame().T)\n",
    "\n",
    "else:\n",
    "    # Si es un DataFrame con una sola fila\n",
    "    print(\"🔹 Mejores indicadores clave:\")\n",
    "    print(mejor_fila[['Prodt', 'Q_Vap', 'Fn', 'PDI', 'DGM']])\n",
    "\n",
    "    print(\"\\n🔹 Toda la fila completa:\")\n",
    "    print(mejor_fila)\n"
   ]
  },
  {
   "cell_type": "code",
   "execution_count": null,
   "id": "fa9fd721",
   "metadata": {},
   "outputs": [],
   "source": []
  },
  {
   "cell_type": "markdown",
   "id": "18ca3862",
   "metadata": {},
   "source": []
  },
  {
   "cell_type": "code",
   "execution_count": null,
   "id": "c06d8d35",
   "metadata": {},
   "outputs": [],
   "source": []
  },
  {
   "cell_type": "markdown",
   "id": "b0a5a552",
   "metadata": {},
   "source": []
  }
 ],
 "metadata": {
  "kernelspec": {
   "display_name": "Python 3",
   "language": "python",
   "name": "python3"
  },
  "language_info": {
   "codemirror_mode": {
    "name": "ipython",
    "version": 3
   },
   "file_extension": ".py",
   "mimetype": "text/x-python",
   "name": "python",
   "nbconvert_exporter": "python",
   "pygments_lexer": "ipython3",
   "version": "3.12.8"
  }
 },
 "nbformat": 4,
 "nbformat_minor": 5
}
